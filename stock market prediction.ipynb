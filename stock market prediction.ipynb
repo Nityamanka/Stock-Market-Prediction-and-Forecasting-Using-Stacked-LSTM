{
 "cells": [
  {
   "cell_type": "code",
   "execution_count": 1,
   "id": "40330c1a-1f9e-47f4-8fbe-f2f0bd121128",
   "metadata": {},
   "outputs": [],
   "source": [
    "#import Essential Libraries\n",
    "import pandas as pd\n",
    "import matplotlib.pyplot as plt\n",
    "import numpy as np\n",
    "from sklearn.preprocessing import MinMaxScaler"
   ]
  },
  {
   "cell_type": "code",
   "execution_count": 5,
   "id": "428dc73e-e1ac-4608-83f1-337e2191ab62",
   "metadata": {},
   "outputs": [
    {
     "data": {
      "text/html": [
       "<div>\n",
       "<style scoped>\n",
       "    .dataframe tbody tr th:only-of-type {\n",
       "        vertical-align: middle;\n",
       "    }\n",
       "\n",
       "    .dataframe tbody tr th {\n",
       "        vertical-align: top;\n",
       "    }\n",
       "\n",
       "    .dataframe thead th {\n",
       "        text-align: right;\n",
       "    }\n",
       "</style>\n",
       "<table border=\"1\" class=\"dataframe\">\n",
       "  <thead>\n",
       "    <tr style=\"text-align: right;\">\n",
       "      <th></th>\n",
       "      <th>Unnamed: 0</th>\n",
       "      <th>symbol</th>\n",
       "      <th>date</th>\n",
       "      <th>close</th>\n",
       "      <th>high</th>\n",
       "      <th>low</th>\n",
       "      <th>open</th>\n",
       "      <th>volume</th>\n",
       "      <th>adjClose</th>\n",
       "      <th>adjHigh</th>\n",
       "      <th>adjLow</th>\n",
       "      <th>adjOpen</th>\n",
       "      <th>adjVolume</th>\n",
       "      <th>divCash</th>\n",
       "      <th>splitFactor</th>\n",
       "    </tr>\n",
       "  </thead>\n",
       "  <tbody>\n",
       "    <tr>\n",
       "      <th>0</th>\n",
       "      <td>0</td>\n",
       "      <td>AAPL</td>\n",
       "      <td>2015-05-27 00:00:00+00:00</td>\n",
       "      <td>132.045</td>\n",
       "      <td>132.260</td>\n",
       "      <td>130.05</td>\n",
       "      <td>130.34</td>\n",
       "      <td>45833246</td>\n",
       "      <td>121.682558</td>\n",
       "      <td>121.880685</td>\n",
       "      <td>119.844118</td>\n",
       "      <td>120.111360</td>\n",
       "      <td>45833246</td>\n",
       "      <td>0.0</td>\n",
       "      <td>1.0</td>\n",
       "    </tr>\n",
       "    <tr>\n",
       "      <th>1</th>\n",
       "      <td>1</td>\n",
       "      <td>AAPL</td>\n",
       "      <td>2015-05-28 00:00:00+00:00</td>\n",
       "      <td>131.780</td>\n",
       "      <td>131.950</td>\n",
       "      <td>131.10</td>\n",
       "      <td>131.86</td>\n",
       "      <td>30733309</td>\n",
       "      <td>121.438354</td>\n",
       "      <td>121.595013</td>\n",
       "      <td>120.811718</td>\n",
       "      <td>121.512076</td>\n",
       "      <td>30733309</td>\n",
       "      <td>0.0</td>\n",
       "      <td>1.0</td>\n",
       "    </tr>\n",
       "    <tr>\n",
       "      <th>2</th>\n",
       "      <td>2</td>\n",
       "      <td>AAPL</td>\n",
       "      <td>2015-05-29 00:00:00+00:00</td>\n",
       "      <td>130.280</td>\n",
       "      <td>131.450</td>\n",
       "      <td>129.90</td>\n",
       "      <td>131.23</td>\n",
       "      <td>50884452</td>\n",
       "      <td>120.056069</td>\n",
       "      <td>121.134251</td>\n",
       "      <td>119.705890</td>\n",
       "      <td>120.931516</td>\n",
       "      <td>50884452</td>\n",
       "      <td>0.0</td>\n",
       "      <td>1.0</td>\n",
       "    </tr>\n",
       "    <tr>\n",
       "      <th>3</th>\n",
       "      <td>3</td>\n",
       "      <td>AAPL</td>\n",
       "      <td>2015-06-01 00:00:00+00:00</td>\n",
       "      <td>130.535</td>\n",
       "      <td>131.390</td>\n",
       "      <td>130.05</td>\n",
       "      <td>131.20</td>\n",
       "      <td>32112797</td>\n",
       "      <td>120.291057</td>\n",
       "      <td>121.078960</td>\n",
       "      <td>119.844118</td>\n",
       "      <td>120.903870</td>\n",
       "      <td>32112797</td>\n",
       "      <td>0.0</td>\n",
       "      <td>1.0</td>\n",
       "    </tr>\n",
       "    <tr>\n",
       "      <th>4</th>\n",
       "      <td>4</td>\n",
       "      <td>AAPL</td>\n",
       "      <td>2015-06-02 00:00:00+00:00</td>\n",
       "      <td>129.960</td>\n",
       "      <td>130.655</td>\n",
       "      <td>129.32</td>\n",
       "      <td>129.86</td>\n",
       "      <td>33667627</td>\n",
       "      <td>119.761181</td>\n",
       "      <td>120.401640</td>\n",
       "      <td>119.171406</td>\n",
       "      <td>119.669029</td>\n",
       "      <td>33667627</td>\n",
       "      <td>0.0</td>\n",
       "      <td>1.0</td>\n",
       "    </tr>\n",
       "  </tbody>\n",
       "</table>\n",
       "</div>"
      ],
      "text/plain": [
       "   Unnamed: 0 symbol                       date    close     high     low  \\\n",
       "0           0   AAPL  2015-05-27 00:00:00+00:00  132.045  132.260  130.05   \n",
       "1           1   AAPL  2015-05-28 00:00:00+00:00  131.780  131.950  131.10   \n",
       "2           2   AAPL  2015-05-29 00:00:00+00:00  130.280  131.450  129.90   \n",
       "3           3   AAPL  2015-06-01 00:00:00+00:00  130.535  131.390  130.05   \n",
       "4           4   AAPL  2015-06-02 00:00:00+00:00  129.960  130.655  129.32   \n",
       "\n",
       "     open    volume    adjClose     adjHigh      adjLow     adjOpen  \\\n",
       "0  130.34  45833246  121.682558  121.880685  119.844118  120.111360   \n",
       "1  131.86  30733309  121.438354  121.595013  120.811718  121.512076   \n",
       "2  131.23  50884452  120.056069  121.134251  119.705890  120.931516   \n",
       "3  131.20  32112797  120.291057  121.078960  119.844118  120.903870   \n",
       "4  129.86  33667627  119.761181  120.401640  119.171406  119.669029   \n",
       "\n",
       "   adjVolume  divCash  splitFactor  \n",
       "0   45833246      0.0          1.0  \n",
       "1   30733309      0.0          1.0  \n",
       "2   50884452      0.0          1.0  \n",
       "3   32112797      0.0          1.0  \n",
       "4   33667627      0.0          1.0  "
      ]
     },
     "execution_count": 5,
     "metadata": {},
     "output_type": "execute_result"
    }
   ],
   "source": [
    "df=pd.read_csv(\"C:\\\\Users\\\\nitya\\\\OneDrive\\\\Documents\\\\data science internship\\\\stock market prediction dataset.csv\")\n",
    "df.head()"
   ]
  },
  {
   "cell_type": "code",
   "execution_count": 7,
   "id": "8f2ce020-bb02-4cd2-a67d-a6e48ec17cf6",
   "metadata": {},
   "outputs": [
    {
     "name": "stdout",
     "output_type": "stream",
     "text": [
      "<class 'str'>\n"
     ]
    }
   ],
   "source": [
    "# convert the data of string type to datetime\n",
    "df['Date']=pd.to_datetime(df['date'])\n",
    "print(type(df.date[0]))"
   ]
  },
  {
   "cell_type": "code",
   "execution_count": 8,
   "id": "e8aba30d-87fb-4cbc-8663-e55f3fe54787",
   "metadata": {},
   "outputs": [
    {
     "data": {
      "text/html": [
       "<div>\n",
       "<style scoped>\n",
       "    .dataframe tbody tr th:only-of-type {\n",
       "        vertical-align: middle;\n",
       "    }\n",
       "\n",
       "    .dataframe tbody tr th {\n",
       "        vertical-align: top;\n",
       "    }\n",
       "\n",
       "    .dataframe thead th {\n",
       "        text-align: right;\n",
       "    }\n",
       "</style>\n",
       "<table border=\"1\" class=\"dataframe\">\n",
       "  <thead>\n",
       "    <tr style=\"text-align: right;\">\n",
       "      <th></th>\n",
       "      <th>Unnamed: 0</th>\n",
       "      <th>symbol</th>\n",
       "      <th>date</th>\n",
       "      <th>close</th>\n",
       "      <th>high</th>\n",
       "      <th>low</th>\n",
       "      <th>open</th>\n",
       "      <th>volume</th>\n",
       "      <th>adjClose</th>\n",
       "      <th>adjHigh</th>\n",
       "      <th>adjLow</th>\n",
       "      <th>adjOpen</th>\n",
       "      <th>adjVolume</th>\n",
       "      <th>divCash</th>\n",
       "      <th>splitFactor</th>\n",
       "      <th>Date</th>\n",
       "    </tr>\n",
       "  </thead>\n",
       "  <tbody>\n",
       "    <tr>\n",
       "      <th>0</th>\n",
       "      <td>0</td>\n",
       "      <td>AAPL</td>\n",
       "      <td>2015-05-27 00:00:00+00:00</td>\n",
       "      <td>132.045</td>\n",
       "      <td>132.260</td>\n",
       "      <td>130.05</td>\n",
       "      <td>130.34</td>\n",
       "      <td>45833246</td>\n",
       "      <td>121.682558</td>\n",
       "      <td>121.880685</td>\n",
       "      <td>119.844118</td>\n",
       "      <td>120.111360</td>\n",
       "      <td>45833246</td>\n",
       "      <td>0.0</td>\n",
       "      <td>1.0</td>\n",
       "      <td>2015-05-27 00:00:00+00:00</td>\n",
       "    </tr>\n",
       "    <tr>\n",
       "      <th>1</th>\n",
       "      <td>1</td>\n",
       "      <td>AAPL</td>\n",
       "      <td>2015-05-28 00:00:00+00:00</td>\n",
       "      <td>131.780</td>\n",
       "      <td>131.950</td>\n",
       "      <td>131.10</td>\n",
       "      <td>131.86</td>\n",
       "      <td>30733309</td>\n",
       "      <td>121.438354</td>\n",
       "      <td>121.595013</td>\n",
       "      <td>120.811718</td>\n",
       "      <td>121.512076</td>\n",
       "      <td>30733309</td>\n",
       "      <td>0.0</td>\n",
       "      <td>1.0</td>\n",
       "      <td>2015-05-28 00:00:00+00:00</td>\n",
       "    </tr>\n",
       "    <tr>\n",
       "      <th>2</th>\n",
       "      <td>2</td>\n",
       "      <td>AAPL</td>\n",
       "      <td>2015-05-29 00:00:00+00:00</td>\n",
       "      <td>130.280</td>\n",
       "      <td>131.450</td>\n",
       "      <td>129.90</td>\n",
       "      <td>131.23</td>\n",
       "      <td>50884452</td>\n",
       "      <td>120.056069</td>\n",
       "      <td>121.134251</td>\n",
       "      <td>119.705890</td>\n",
       "      <td>120.931516</td>\n",
       "      <td>50884452</td>\n",
       "      <td>0.0</td>\n",
       "      <td>1.0</td>\n",
       "      <td>2015-05-29 00:00:00+00:00</td>\n",
       "    </tr>\n",
       "    <tr>\n",
       "      <th>3</th>\n",
       "      <td>3</td>\n",
       "      <td>AAPL</td>\n",
       "      <td>2015-06-01 00:00:00+00:00</td>\n",
       "      <td>130.535</td>\n",
       "      <td>131.390</td>\n",
       "      <td>130.05</td>\n",
       "      <td>131.20</td>\n",
       "      <td>32112797</td>\n",
       "      <td>120.291057</td>\n",
       "      <td>121.078960</td>\n",
       "      <td>119.844118</td>\n",
       "      <td>120.903870</td>\n",
       "      <td>32112797</td>\n",
       "      <td>0.0</td>\n",
       "      <td>1.0</td>\n",
       "      <td>2015-06-01 00:00:00+00:00</td>\n",
       "    </tr>\n",
       "    <tr>\n",
       "      <th>4</th>\n",
       "      <td>4</td>\n",
       "      <td>AAPL</td>\n",
       "      <td>2015-06-02 00:00:00+00:00</td>\n",
       "      <td>129.960</td>\n",
       "      <td>130.655</td>\n",
       "      <td>129.32</td>\n",
       "      <td>129.86</td>\n",
       "      <td>33667627</td>\n",
       "      <td>119.761181</td>\n",
       "      <td>120.401640</td>\n",
       "      <td>119.171406</td>\n",
       "      <td>119.669029</td>\n",
       "      <td>33667627</td>\n",
       "      <td>0.0</td>\n",
       "      <td>1.0</td>\n",
       "      <td>2015-06-02 00:00:00+00:00</td>\n",
       "    </tr>\n",
       "  </tbody>\n",
       "</table>\n",
       "</div>"
      ],
      "text/plain": [
       "   Unnamed: 0 symbol                       date    close     high     low  \\\n",
       "0           0   AAPL  2015-05-27 00:00:00+00:00  132.045  132.260  130.05   \n",
       "1           1   AAPL  2015-05-28 00:00:00+00:00  131.780  131.950  131.10   \n",
       "2           2   AAPL  2015-05-29 00:00:00+00:00  130.280  131.450  129.90   \n",
       "3           3   AAPL  2015-06-01 00:00:00+00:00  130.535  131.390  130.05   \n",
       "4           4   AAPL  2015-06-02 00:00:00+00:00  129.960  130.655  129.32   \n",
       "\n",
       "     open    volume    adjClose     adjHigh      adjLow     adjOpen  \\\n",
       "0  130.34  45833246  121.682558  121.880685  119.844118  120.111360   \n",
       "1  131.86  30733309  121.438354  121.595013  120.811718  121.512076   \n",
       "2  131.23  50884452  120.056069  121.134251  119.705890  120.931516   \n",
       "3  131.20  32112797  120.291057  121.078960  119.844118  120.903870   \n",
       "4  129.86  33667627  119.761181  120.401640  119.171406  119.669029   \n",
       "\n",
       "   adjVolume  divCash  splitFactor                      Date  \n",
       "0   45833246      0.0          1.0 2015-05-27 00:00:00+00:00  \n",
       "1   30733309      0.0          1.0 2015-05-28 00:00:00+00:00  \n",
       "2   50884452      0.0          1.0 2015-05-29 00:00:00+00:00  \n",
       "3   32112797      0.0          1.0 2015-06-01 00:00:00+00:00  \n",
       "4   33667627      0.0          1.0 2015-06-02 00:00:00+00:00  "
      ]
     },
     "execution_count": 8,
     "metadata": {},
     "output_type": "execute_result"
    }
   ],
   "source": [
    "#sort date data\n",
    "df=df.sort_values(by='date')\n",
    "df.head()"
   ]
  },
  {
   "cell_type": "code",
   "execution_count": 9,
   "id": "96a559a7-87c3-48e3-a3a2-da299844541f",
   "metadata": {},
   "outputs": [
    {
     "data": {
      "text/html": [
       "<div>\n",
       "<style scoped>\n",
       "    .dataframe tbody tr th:only-of-type {\n",
       "        vertical-align: middle;\n",
       "    }\n",
       "\n",
       "    .dataframe tbody tr th {\n",
       "        vertical-align: top;\n",
       "    }\n",
       "\n",
       "    .dataframe thead th {\n",
       "        text-align: right;\n",
       "    }\n",
       "</style>\n",
       "<table border=\"1\" class=\"dataframe\">\n",
       "  <thead>\n",
       "    <tr style=\"text-align: right;\">\n",
       "      <th></th>\n",
       "      <th>index</th>\n",
       "      <th>Unnamed: 0</th>\n",
       "      <th>symbol</th>\n",
       "      <th>date</th>\n",
       "      <th>close</th>\n",
       "      <th>high</th>\n",
       "      <th>low</th>\n",
       "      <th>open</th>\n",
       "      <th>volume</th>\n",
       "      <th>adjClose</th>\n",
       "      <th>adjHigh</th>\n",
       "      <th>adjLow</th>\n",
       "      <th>adjOpen</th>\n",
       "      <th>adjVolume</th>\n",
       "      <th>divCash</th>\n",
       "      <th>splitFactor</th>\n",
       "      <th>Date</th>\n",
       "    </tr>\n",
       "  </thead>\n",
       "  <tbody>\n",
       "    <tr>\n",
       "      <th>0</th>\n",
       "      <td>0</td>\n",
       "      <td>0</td>\n",
       "      <td>AAPL</td>\n",
       "      <td>2015-05-27 00:00:00+00:00</td>\n",
       "      <td>132.045</td>\n",
       "      <td>132.260</td>\n",
       "      <td>130.05</td>\n",
       "      <td>130.34</td>\n",
       "      <td>45833246</td>\n",
       "      <td>121.682558</td>\n",
       "      <td>121.880685</td>\n",
       "      <td>119.844118</td>\n",
       "      <td>120.111360</td>\n",
       "      <td>45833246</td>\n",
       "      <td>0.0</td>\n",
       "      <td>1.0</td>\n",
       "      <td>2015-05-27 00:00:00+00:00</td>\n",
       "    </tr>\n",
       "    <tr>\n",
       "      <th>1</th>\n",
       "      <td>1</td>\n",
       "      <td>1</td>\n",
       "      <td>AAPL</td>\n",
       "      <td>2015-05-28 00:00:00+00:00</td>\n",
       "      <td>131.780</td>\n",
       "      <td>131.950</td>\n",
       "      <td>131.10</td>\n",
       "      <td>131.86</td>\n",
       "      <td>30733309</td>\n",
       "      <td>121.438354</td>\n",
       "      <td>121.595013</td>\n",
       "      <td>120.811718</td>\n",
       "      <td>121.512076</td>\n",
       "      <td>30733309</td>\n",
       "      <td>0.0</td>\n",
       "      <td>1.0</td>\n",
       "      <td>2015-05-28 00:00:00+00:00</td>\n",
       "    </tr>\n",
       "    <tr>\n",
       "      <th>2</th>\n",
       "      <td>2</td>\n",
       "      <td>2</td>\n",
       "      <td>AAPL</td>\n",
       "      <td>2015-05-29 00:00:00+00:00</td>\n",
       "      <td>130.280</td>\n",
       "      <td>131.450</td>\n",
       "      <td>129.90</td>\n",
       "      <td>131.23</td>\n",
       "      <td>50884452</td>\n",
       "      <td>120.056069</td>\n",
       "      <td>121.134251</td>\n",
       "      <td>119.705890</td>\n",
       "      <td>120.931516</td>\n",
       "      <td>50884452</td>\n",
       "      <td>0.0</td>\n",
       "      <td>1.0</td>\n",
       "      <td>2015-05-29 00:00:00+00:00</td>\n",
       "    </tr>\n",
       "    <tr>\n",
       "      <th>3</th>\n",
       "      <td>3</td>\n",
       "      <td>3</td>\n",
       "      <td>AAPL</td>\n",
       "      <td>2015-06-01 00:00:00+00:00</td>\n",
       "      <td>130.535</td>\n",
       "      <td>131.390</td>\n",
       "      <td>130.05</td>\n",
       "      <td>131.20</td>\n",
       "      <td>32112797</td>\n",
       "      <td>120.291057</td>\n",
       "      <td>121.078960</td>\n",
       "      <td>119.844118</td>\n",
       "      <td>120.903870</td>\n",
       "      <td>32112797</td>\n",
       "      <td>0.0</td>\n",
       "      <td>1.0</td>\n",
       "      <td>2015-06-01 00:00:00+00:00</td>\n",
       "    </tr>\n",
       "    <tr>\n",
       "      <th>4</th>\n",
       "      <td>4</td>\n",
       "      <td>4</td>\n",
       "      <td>AAPL</td>\n",
       "      <td>2015-06-02 00:00:00+00:00</td>\n",
       "      <td>129.960</td>\n",
       "      <td>130.655</td>\n",
       "      <td>129.32</td>\n",
       "      <td>129.86</td>\n",
       "      <td>33667627</td>\n",
       "      <td>119.761181</td>\n",
       "      <td>120.401640</td>\n",
       "      <td>119.171406</td>\n",
       "      <td>119.669029</td>\n",
       "      <td>33667627</td>\n",
       "      <td>0.0</td>\n",
       "      <td>1.0</td>\n",
       "      <td>2015-06-02 00:00:00+00:00</td>\n",
       "    </tr>\n",
       "  </tbody>\n",
       "</table>\n",
       "</div>"
      ],
      "text/plain": [
       "   index  Unnamed: 0 symbol                       date    close     high  \\\n",
       "0      0           0   AAPL  2015-05-27 00:00:00+00:00  132.045  132.260   \n",
       "1      1           1   AAPL  2015-05-28 00:00:00+00:00  131.780  131.950   \n",
       "2      2           2   AAPL  2015-05-29 00:00:00+00:00  130.280  131.450   \n",
       "3      3           3   AAPL  2015-06-01 00:00:00+00:00  130.535  131.390   \n",
       "4      4           4   AAPL  2015-06-02 00:00:00+00:00  129.960  130.655   \n",
       "\n",
       "      low    open    volume    adjClose     adjHigh      adjLow     adjOpen  \\\n",
       "0  130.05  130.34  45833246  121.682558  121.880685  119.844118  120.111360   \n",
       "1  131.10  131.86  30733309  121.438354  121.595013  120.811718  121.512076   \n",
       "2  129.90  131.23  50884452  120.056069  121.134251  119.705890  120.931516   \n",
       "3  130.05  131.20  32112797  120.291057  121.078960  119.844118  120.903870   \n",
       "4  129.32  129.86  33667627  119.761181  120.401640  119.171406  119.669029   \n",
       "\n",
       "   adjVolume  divCash  splitFactor                      Date  \n",
       "0   45833246      0.0          1.0 2015-05-27 00:00:00+00:00  \n",
       "1   30733309      0.0          1.0 2015-05-28 00:00:00+00:00  \n",
       "2   50884452      0.0          1.0 2015-05-29 00:00:00+00:00  \n",
       "3   32112797      0.0          1.0 2015-06-01 00:00:00+00:00  \n",
       "4   33667627      0.0          1.0 2015-06-02 00:00:00+00:00  "
      ]
     },
     "execution_count": 9,
     "metadata": {},
     "output_type": "execute_result"
    }
   ],
   "source": [
    "df.reset_index(inplace=True)\n",
    "df.head()"
   ]
  },
  {
   "cell_type": "code",
   "execution_count": 11,
   "id": "148e0bec-aad8-4a13-88b0-1129d50e1e8d",
   "metadata": {},
   "outputs": [],
   "source": [
    "df_close=df['close']"
   ]
  },
  {
   "cell_type": "code",
   "execution_count": 12,
   "id": "d92c7aa8-4ad3-4139-a0c8-c9a29c190775",
   "metadata": {},
   "outputs": [
    {
     "data": {
      "text/plain": [
       "Text(0.5, 1.0, 'Stock prediction')"
      ]
     },
     "execution_count": 12,
     "metadata": {},
     "output_type": "execute_result"
    },
    {
     "data": {
      "image/png": "[encoded data removed]",
      "text/plain": [
       "<Figure size 640x480 with 1 Axes>"
      ]
     },
     "metadata": {},
     "output_type": "display_data"
    }
   ],
   "source": [
    "plt.plot(df_close)  \n",
    "plt.xlabel('No of datapoint')\n",
    "plt.ylabel('Close')\n",
    "plt.title('Stock prediction')"
   ]
  },
  {
   "cell_type": "code",
   "execution_count": 13,
   "id": "778459c8-bebb-4a41-ba76-965f0cf73838",
   "metadata": {},
   "outputs": [
    {
     "data": {
      "text/plain": [
       "array([[0.17607447],\n",
       "       [0.17495567],\n",
       "       [0.16862282],\n",
       "       ...,\n",
       "       [0.96635143],\n",
       "       [0.9563033 ],\n",
       "       [0.96491598]])"
      ]
     },
     "execution_count": 13,
     "metadata": {},
     "output_type": "execute_result"
    }
   ],
   "source": [
    "## we need to scale the data as LSTM are sensitive to the scale of the data.\n",
    "scaler=MinMaxScaler(feature_range=(0,1))\n",
    "df1=scaler.fit_transform(np.array(df_close).reshape(-1,1))\n",
    "df1"
   ]
  },
  {
   "cell_type": "code",
   "execution_count": 14,
   "id": "e417dc74-c244-46d0-abbe-c0e387818aec",
   "metadata": {},
   "outputs": [],
   "source": [
    "##splitting dataset into train and test split\n",
    "training_size=int(len(df1)*0.70)\n",
    "test_size=len(df1)-training_size\n",
    "train_data,test_data=df1[0:training_size,:],df1[training_size:len(df1),:1]"
   ]
  },
  {
   "cell_type": "code",
   "execution_count": 15,
   "id": "a765678d-ea3f-40e1-bec0-74a4584ea3ef",
   "metadata": {},
   "outputs": [],
   "source": [
    "# convert an array of values into a dataset matrix\n",
    "def create_dataset(dataset, time_step=1):\n",
    "\tdataX, dataY = [], []\n",
    "\tfor i in range(len(dataset)-time_step-1):\n",
    "\t\ta = dataset[i:(i+time_step), 0]   ##Here i=0 to 100 \n",
    "\t\tdataX.append(a)\n",
    "\t\tdataY.append(dataset[i + time_step, 0])\n",
    "\treturn np.array(dataX), np.array(dataY)"
   ]
  },
  {
   "cell_type": "code",
   "execution_count": 16,
   "id": "318bfaaa-4328-4ec6-997a-41d8876e4c4e",
   "metadata": {},
   "outputs": [],
   "source": [
    "# reshape into X=t,t+1,t+2,t+3 and Y=t+4\n",
    "time_step = 100\n",
    "X_train, y_train = create_dataset(train_data, time_step)\n",
    "X_test, y_test = create_dataset(test_data, time_step)"
   ]
  },
  {
   "cell_type": "code",
   "execution_count": 17,
   "id": "796d2a9a-f5d4-4876-9378-c948d4bb2f88",
   "metadata": {},
   "outputs": [],
   "source": [
    "# reshape input to be [samples, time steps, features] which is required for LSTM\n",
    "X_train =X_train.reshape(X_train.shape[0],X_train.shape[1] , 1)\n",
    "X_test = X_test.reshape(X_test.shape[0],X_test.shape[1] , 1)"
   ]
  },
  {
   "cell_type": "code",
   "execution_count": 18,
   "id": "19d04126-50fc-47ec-88b8-66797086fb90",
   "metadata": {},
   "outputs": [],
   "source": [
    "### Create the Stacked LSTM model\n",
    "from tensorflow.keras.models import Sequential\n",
    "from tensorflow.keras.layers import Dense\n",
    "from tensorflow.keras.layers import Dropout\n",
    "from tensorflow.keras.layers import LSTM"
   ]
  },
  {
   "cell_type": "code",
   "execution_count": 19,
   "id": "3ad3bb74-e0cf-4916-be1a-812631ecfd9f",
   "metadata": {},
   "outputs": [
    {
     "name": "stdout",
     "output_type": "stream",
     "text": [
      "Model: \"sequential\"\n",
      "_________________________________________________________________\n",
      " Layer (type)                Output Shape              Param #   \n",
      "=================================================================\n",
      " lstm (LSTM)                 (None, 100, 50)           10400     \n",
      "                                                                 \n",
      " lstm_1 (LSTM)               (None, 100, 50)           20200     \n",
      "                                                                 \n",
      " lstm_2 (LSTM)               (None, 50)                20200     \n",
      "                                                                 \n",
      " dense (Dense)               (None, 1)                 51        \n",
      "                                                                 \n",
      "=================================================================\n",
      "Total params: 50,851\n",
      "Trainable params: 50,851\n",
      "Non-trainable params: 0\n",
      "_________________________________________________________________\n"
     ]
    }
   ],
   "source": [
    "model=Sequential()\n",
    "model.add(LSTM(50,return_sequences=True,input_shape=(100,1)))\n",
    "model.add(LSTM(50,return_sequences=True))\n",
    "model.add(LSTM(50))\n",
    "model.add(Dense(1))\n",
    "#model.compile(loss='mean_squared_error',optimizer='adam')\n",
    "model.compile(loss='mean_absolute_error', optimizer = 'adam', metrics = ['accuracy'])\n",
    "model.summary()"
   ]
  },
  {
   "cell_type": "code",
   "execution_count": 20,
   "id": "2da24b1b-5141-4429-af21-447616cc69e1",
   "metadata": {},
   "outputs": [
    {
     "name": "stdout",
     "output_type": "stream",
     "text": [
      "Epoch 1/60\n",
      "11/11 [==============================] - 24s 699ms/step - loss: 0.0781 - accuracy: 0.0014 - val_loss: 0.1459 - val_accuracy: 0.0000e+00\n",
      "Epoch 2/60\n",
      "11/11 [==============================] - 5s 455ms/step - loss: 0.0289 - accuracy: 0.0014 - val_loss: 0.0448 - val_accuracy: 0.0000e+00\n",
      "Epoch 3/60\n",
      "11/11 [==============================] - 5s 439ms/step - loss: 0.0214 - accuracy: 0.0014 - val_loss: 0.0435 - val_accuracy: 0.0000e+00\n",
      "Epoch 4/60\n",
      "11/11 [==============================] - 5s 410ms/step - loss: 0.0204 - accuracy: 0.0014 - val_loss: 0.0378 - val_accuracy: 0.0000e+00\n",
      "Epoch 5/60\n",
      "11/11 [==============================] - 5s 447ms/step - loss: 0.0192 - accuracy: 0.0014 - val_loss: 0.0403 - val_accuracy: 0.0000e+00\n",
      "Epoch 6/60\n",
      "11/11 [==============================] - 5s 443ms/step - loss: 0.0190 - accuracy: 0.0014 - val_loss: 0.0403 - val_accuracy: 0.0000e+00\n",
      "Epoch 7/60\n",
      "11/11 [==============================] - 5s 436ms/step - loss: 0.0186 - accuracy: 0.0014 - val_loss: 0.0342 - val_accuracy: 0.0000e+00\n",
      "Epoch 8/60\n",
      "11/11 [==============================] - 4s 384ms/step - loss: 0.0181 - accuracy: 0.0014 - val_loss: 0.0346 - val_accuracy: 0.0000e+00\n",
      "Epoch 9/60\n",
      "11/11 [==============================] - 5s 431ms/step - loss: 0.0185 - accuracy: 0.0014 - val_loss: 0.0351 - val_accuracy: 0.0000e+00\n",
      "Epoch 10/60\n",
      "11/11 [==============================] - 5s 436ms/step - loss: 0.0173 - accuracy: 0.0014 - val_loss: 0.0336 - val_accuracy: 0.0000e+00\n",
      "Epoch 11/60\n",
      "11/11 [==============================] - 4s 359ms/step - loss: 0.0176 - accuracy: 0.0014 - val_loss: 0.0345 - val_accuracy: 0.0000e+00\n",
      "Epoch 12/60\n",
      "11/11 [==============================] - 4s 412ms/step - loss: 0.0168 - accuracy: 0.0014 - val_loss: 0.0425 - val_accuracy: 0.0000e+00\n",
      "Epoch 13/60\n",
      "11/11 [==============================] - 5s 420ms/step - loss: 0.0174 - accuracy: 0.0014 - val_loss: 0.0319 - val_accuracy: 0.0000e+00\n",
      "Epoch 14/60\n",
      "11/11 [==============================] - 5s 418ms/step - loss: 0.0179 - accuracy: 0.0014 - val_loss: 0.0347 - val_accuracy: 0.0000e+00\n",
      "Epoch 15/60\n",
      "11/11 [==============================] - 4s 356ms/step - loss: 0.0178 - accuracy: 0.0014 - val_loss: 0.0371 - val_accuracy: 0.0000e+00\n",
      "Epoch 16/60\n",
      "11/11 [==============================] - 5s 418ms/step - loss: 0.0163 - accuracy: 0.0014 - val_loss: 0.0290 - val_accuracy: 0.0000e+00\n",
      "Epoch 17/60\n",
      "11/11 [==============================] - 5s 432ms/step - loss: 0.0151 - accuracy: 0.0014 - val_loss: 0.0309 - val_accuracy: 0.0000e+00\n",
      "Epoch 18/60\n",
      "11/11 [==============================] - 4s 373ms/step - loss: 0.0153 - accuracy: 0.0014 - val_loss: 0.0427 - val_accuracy: 0.0000e+00\n",
      "Epoch 19/60\n",
      "11/11 [==============================] - 4s 388ms/step - loss: 0.0170 - accuracy: 0.0014 - val_loss: 0.0312 - val_accuracy: 0.0000e+00\n",
      "Epoch 20/60\n",
      "11/11 [==============================] - 5s 418ms/step - loss: 0.0162 - accuracy: 0.0014 - val_loss: 0.0388 - val_accuracy: 0.0000e+00\n",
      "Epoch 21/60\n",
      "11/11 [==============================] - 4s 400ms/step - loss: 0.0156 - accuracy: 0.0014 - val_loss: 0.0261 - val_accuracy: 0.0000e+00\n",
      "Epoch 22/60\n",
      "11/11 [==============================] - 4s 358ms/step - loss: 0.0138 - accuracy: 0.0014 - val_loss: 0.0426 - val_accuracy: 0.0000e+00\n",
      "Epoch 23/60\n",
      "11/11 [==============================] - 5s 415ms/step - loss: 0.0147 - accuracy: 0.0014 - val_loss: 0.0245 - val_accuracy: 0.0000e+00\n",
      "Epoch 24/60\n",
      "11/11 [==============================] - 5s 418ms/step - loss: 0.0138 - accuracy: 0.0014 - val_loss: 0.0240 - val_accuracy: 0.0000e+00\n",
      "Epoch 25/60\n",
      "11/11 [==============================] - 4s 389ms/step - loss: 0.0130 - accuracy: 0.0014 - val_loss: 0.0246 - val_accuracy: 0.0000e+00\n",
      "Epoch 26/60\n",
      "11/11 [==============================] - 3s 316ms/step - loss: 0.0129 - accuracy: 0.0014 - val_loss: 0.0229 - val_accuracy: 0.0000e+00\n",
      "Epoch 27/60\n",
      "11/11 [==============================] - 4s 362ms/step - loss: 0.0133 - accuracy: 0.0014 - val_loss: 0.0228 - val_accuracy: 0.0000e+00\n",
      "Epoch 28/60\n",
      "11/11 [==============================] - 5s 417ms/step - loss: 0.0128 - accuracy: 0.0014 - val_loss: 0.0246 - val_accuracy: 0.0000e+00\n",
      "Epoch 29/60\n",
      "11/11 [==============================] - 4s 404ms/step - loss: 0.0123 - accuracy: 0.0014 - val_loss: 0.0255 - val_accuracy: 0.0000e+00\n",
      "Epoch 30/60\n",
      "11/11 [==============================] - 4s 367ms/step - loss: 0.0119 - accuracy: 0.0014 - val_loss: 0.0264 - val_accuracy: 0.0000e+00\n",
      "Epoch 31/60\n",
      "11/11 [==============================] - 4s 392ms/step - loss: 0.0118 - accuracy: 0.0014 - val_loss: 0.0239 - val_accuracy: 0.0000e+00\n",
      "Epoch 32/60\n",
      "11/11 [==============================] - 4s 370ms/step - loss: 0.0119 - accuracy: 0.0014 - val_loss: 0.0217 - val_accuracy: 0.0000e+00\n",
      "Epoch 33/60\n",
      "11/11 [==============================] - 4s 400ms/step - loss: 0.0126 - accuracy: 0.0014 - val_loss: 0.0227 - val_accuracy: 0.0000e+00\n",
      "Epoch 34/60\n",
      "11/11 [==============================] - 4s 386ms/step - loss: 0.0123 - accuracy: 0.0014 - val_loss: 0.0385 - val_accuracy: 0.0000e+00\n",
      "Epoch 35/60\n",
      "11/11 [==============================] - 4s 407ms/step - loss: 0.0115 - accuracy: 0.0014 - val_loss: 0.0232 - val_accuracy: 0.0000e+00\n",
      "Epoch 36/60\n",
      "11/11 [==============================] - 5s 423ms/step - loss: 0.0109 - accuracy: 0.0014 - val_loss: 0.0236 - val_accuracy: 0.0000e+00\n",
      "Epoch 37/60\n",
      "11/11 [==============================] - 4s 362ms/step - loss: 0.0105 - accuracy: 0.0014 - val_loss: 0.0210 - val_accuracy: 0.0000e+00\n",
      "Epoch 38/60\n",
      "11/11 [==============================] - 4s 406ms/step - loss: 0.0104 - accuracy: 0.0014 - val_loss: 0.0200 - val_accuracy: 0.0000e+00\n",
      "Epoch 39/60\n",
      "11/11 [==============================] - 4s 410ms/step - loss: 0.0125 - accuracy: 0.0014 - val_loss: 0.0201 - val_accuracy: 0.0000e+00\n",
      "Epoch 40/60\n",
      "11/11 [==============================] - 5s 423ms/step - loss: 0.0121 - accuracy: 0.0014 - val_loss: 0.0239 - val_accuracy: 0.0000e+00\n",
      "Epoch 41/60\n",
      "11/11 [==============================] - 4s 346ms/step - loss: 0.0100 - accuracy: 0.0014 - val_loss: 0.0270 - val_accuracy: 0.0000e+00\n",
      "Epoch 42/60\n",
      "11/11 [==============================] - 5s 411ms/step - loss: 0.0096 - accuracy: 0.0014 - val_loss: 0.0239 - val_accuracy: 0.0000e+00\n",
      "Epoch 43/60\n",
      "11/11 [==============================] - 5s 416ms/step - loss: 0.0096 - accuracy: 0.0014 - val_loss: 0.0224 - val_accuracy: 0.0000e+00\n",
      "Epoch 44/60\n",
      "11/11 [==============================] - 4s 401ms/step - loss: 0.0095 - accuracy: 0.0014 - val_loss: 0.0257 - val_accuracy: 0.0000e+00\n",
      "Epoch 45/60\n",
      "11/11 [==============================] - 4s 381ms/step - loss: 0.0100 - accuracy: 0.0014 - val_loss: 0.0231 - val_accuracy: 0.0000e+00\n",
      "Epoch 46/60\n",
      "11/11 [==============================] - 4s 402ms/step - loss: 0.0091 - accuracy: 0.0014 - val_loss: 0.0212 - val_accuracy: 0.0000e+00\n",
      "Epoch 47/60\n",
      "11/11 [==============================] - 5s 426ms/step - loss: 0.0101 - accuracy: 0.0014 - val_loss: 0.0248 - val_accuracy: 0.0000e+00\n",
      "Epoch 48/60\n",
      "11/11 [==============================] - 4s 370ms/step - loss: 0.0093 - accuracy: 0.0014 - val_loss: 0.0194 - val_accuracy: 0.0000e+00\n",
      "Epoch 49/60\n",
      "11/11 [==============================] - 4s 414ms/step - loss: 0.0091 - accuracy: 0.0014 - val_loss: 0.0209 - val_accuracy: 0.0000e+00\n",
      "Epoch 50/60\n",
      "11/11 [==============================] - 4s 405ms/step - loss: 0.0086 - accuracy: 0.0014 - val_loss: 0.0188 - val_accuracy: 0.0000e+00\n",
      "Epoch 51/60\n",
      "11/11 [==============================] - 4s 405ms/step - loss: 0.0090 - accuracy: 0.0014 - val_loss: 0.0223 - val_accuracy: 0.0000e+00\n",
      "Epoch 52/60\n",
      "11/11 [==============================] - 4s 342ms/step - loss: 0.0090 - accuracy: 0.0014 - val_loss: 0.0197 - val_accuracy: 0.0000e+00\n",
      "Epoch 53/60\n",
      "11/11 [==============================] - 5s 415ms/step - loss: 0.0093 - accuracy: 0.0014 - val_loss: 0.0216 - val_accuracy: 0.0000e+00\n",
      "Epoch 54/60\n",
      "11/11 [==============================] - 4s 406ms/step - loss: 0.0083 - accuracy: 0.0014 - val_loss: 0.0202 - val_accuracy: 0.0000e+00\n",
      "Epoch 55/60\n",
      "11/11 [==============================] - 4s 404ms/step - loss: 0.0086 - accuracy: 0.0014 - val_loss: 0.0246 - val_accuracy: 0.0000e+00\n",
      "Epoch 56/60\n",
      "11/11 [==============================] - 4s 357ms/step - loss: 0.0088 - accuracy: 0.0014 - val_loss: 0.0202 - val_accuracy: 0.0000e+00\n",
      "Epoch 57/60\n",
      "11/11 [==============================] - 4s 406ms/step - loss: 0.0081 - accuracy: 0.0014 - val_loss: 0.0199 - val_accuracy: 0.0000e+00\n",
      "Epoch 58/60\n",
      "11/11 [==============================] - 5s 414ms/step - loss: 0.0089 - accuracy: 0.0014 - val_loss: 0.0175 - val_accuracy: 0.0000e+00\n",
      "Epoch 59/60\n",
      "11/11 [==============================] - 4s 378ms/step - loss: 0.0090 - accuracy: 0.0014 - val_loss: 0.0177 - val_accuracy: 0.0000e+00\n",
      "Epoch 60/60\n",
      "11/11 [==============================] - 4s 386ms/step - loss: 0.0080 - accuracy: 0.0014 - val_loss: 0.0174 - val_accuracy: 0.0000e+00\n"
     ]
    },
    {
     "data": {
      "text/plain": [
       "<keras.callbacks.History at 0x1b3049ac2b0>"
      ]
     },
     "execution_count": 20,
     "metadata": {},
     "output_type": "execute_result"
    }
   ],
   "source": [
    "model.fit(X_train,y_train,validation_split=0.1,epochs=60,batch_size=64,verbose=1)"
   ]
  },
  {
   "cell_type": "code",
   "execution_count": 21,
   "id": "cc04dafd-6c14-48ce-b253-9a67608fdc60",
   "metadata": {},
   "outputs": [
    {
     "name": "stdout",
     "output_type": "stream",
     "text": [
      "25/25 [==============================] - 5s 80ms/step\n",
      "9/9 [==============================] - 1s 81ms/step\n"
     ]
    }
   ],
   "source": [
    "## Lets do the prediction and check performance metrics\n",
    "train_predict = model.predict(X_train)\n",
    "test_predict = model.predict(X_test)"
   ]
  },
  {
   "cell_type": "code",
   "execution_count": 22,
   "id": "1f6636d7-ac5e-4673-9afe-8e4dbb7e86ed",
   "metadata": {},
   "outputs": [
    {
     "data": {
      "text/plain": [
       "0.013705653531196455"
      ]
     },
     "execution_count": 22,
     "metadata": {},
     "output_type": "execute_result"
    }
   ],
   "source": [
    "#Calculate RMSE performance metrics\n",
    "import math\n",
    "from sklearn.metrics import mean_squared_error\n",
    "math.sqrt(mean_squared_error(y_train, train_predict))"
   ]
  },
  {
   "cell_type": "code",
   "execution_count": 23,
   "id": "07c4e29b-729f-4b6f-8ef0-6e149079ad9e",
   "metadata": {},
   "outputs": [
    {
     "data": {
      "text/plain": [
       "0.99"
      ]
     },
     "execution_count": 23,
     "metadata": {},
     "output_type": "execute_result"
    }
   ],
   "source": [
    "#R-Square\n",
    "from sklearn import metrics\n",
    "np.round(metrics.r2_score(y_train, train_predict),2)"
   ]
  },
  {
   "cell_type": "code",
   "execution_count": 24,
   "id": "4b9d5007-a7c7-4592-9794-9586b96a89d6",
   "metadata": {},
   "outputs": [
    {
     "data": {
      "text/plain": [
       "0.030409611750360582"
      ]
     },
     "execution_count": 24,
     "metadata": {},
     "output_type": "execute_result"
    }
   ],
   "source": [
    "#Calculate RMSE performance metrics\n",
    "math.sqrt(mean_squared_error(y_test, test_predict))"
   ]
  },
  {
   "cell_type": "code",
   "execution_count": 25,
   "id": "6ab2eb00-8da3-4326-9f88-c4357ee34041",
   "metadata": {},
   "outputs": [
    {
     "data": {
      "text/plain": [
       "0.97"
      ]
     },
     "execution_count": 25,
     "metadata": {},
     "output_type": "execute_result"
    }
   ],
   "source": [
    "#R-Square\n",
    "np.round(metrics.r2_score(y_test, test_predict),2)"
   ]
  },
  {
   "cell_type": "code",
   "execution_count": 26,
   "id": "64826dfd-3fac-43af-ac0f-b81ae66ec350",
   "metadata": {},
   "outputs": [],
   "source": [
    "#Transform back to original form\n",
    "train_predict = scaler.inverse_transform(train_predict)\n",
    "test_predict = scaler.inverse_transform(test_predict)\n",
    "y_train = scaler.inverse_transform(y_train.reshape(-1,1))\n",
    "y_test = scaler.inverse_transform(y_test.reshape(-1,1))"
   ]
  },
  {
   "cell_type": "code",
   "execution_count": 27,
   "id": "8383f734-a6e3-48f2-acef-cf77646601d5",
   "metadata": {},
   "outputs": [
    {
     "data": {
      "image/png": "[encoded data removed]",
      "text/plain": [
       "<Figure size 640x480 with 1 Axes>"
      ]
     },
     "metadata": {},
     "output_type": "display_data"
    }
   ],
   "source": [
    "#Shift train prediction for plotting\n",
    "look_back = 100\n",
    "trainPredictPlot = np.empty_like(df1)\n",
    "trainPredictPlot[:,:] = np.nan\n",
    "trainPredictPlot[look_back:len(train_predict) + look_back, :] = train_predict\n",
    "\n",
    "#Shift test prediction for plotting\n",
    "testPredictPlot = np.empty_like(df1)\n",
    "testPredictPlot[:,:] = np.nan\n",
    "testPredictPlot[len(train_predict) + (look_back * 2)+1:len(df1) - 1, :] = test_predict\n",
    "\n",
    "#Plot baseline and predictions\n",
    "plt.plot(scaler.inverse_transform(df1))\n",
    "plt.plot(trainPredictPlot)\n",
    "plt.plot(testPredictPlot)\n",
    "plt.xlabel('No of datapoint')\n",
    "plt.ylabel('Close')\n",
    "plt.title('Stock prediction')\n",
    "plt.show()"
   ]
  },
  {
   "cell_type": "code",
   "execution_count": 28,
   "id": "1fa6189a-e09f-4501-9f3e-ede81c564159",
   "metadata": {},
   "outputs": [
    {
     "data": {
      "text/plain": [
       "(1, 0)"
      ]
     },
     "execution_count": 28,
     "metadata": {},
     "output_type": "execute_result"
    }
   ],
   "source": [
    "x_input = test_data[511:].reshape(1,-1)\n",
    "x_input.shape"
   ]
  },
  {
   "cell_type": "code",
   "execution_count": 29,
   "id": "6614483c-88ec-4d33-8376-67fecb91b19c",
   "metadata": {},
   "outputs": [],
   "source": [
    "temp_input = list(x_input)\n",
    "temp_input = temp_input[0].tolist()"
   ]
  },
  {
   "cell_type": "code",
   "execution_count": 57,
   "id": "f2275d99-5867-468f-bf39-c22b2c17d4de",
   "metadata": {},
   "outputs": [],
   "source": []
  },
  {
   "cell_type": "code",
   "execution_count": null,
   "id": "fa08d591-d315-4289-b355-d1c7fb669e00",
   "metadata": {},
   "outputs": [],
   "source": []
  }
 ],
 "metadata": {
  "kernelspec": {
   "display_name": "Python 3 (ipykernel)",
   "language": "python",
   "name": "python3"
  },
  "language_info": {
   "codemirror_mode": {
    "name": "ipython",
    "version": 3
   },
   "file_extension": ".py",
   "mimetype": "text/x-python",
   "name": "python",
   "nbconvert_exporter": "python",
   "pygments_lexer": "ipython3",
   "version": "3.9.7"
  }
 },
 "nbformat": 4,
 "nbformat_minor": 5
}
